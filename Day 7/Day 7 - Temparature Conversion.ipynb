{
 "cells": [
  {
   "cell_type": "markdown",
   "metadata": {},
   "source": [
    "1. Write a program to convert temperature from Celsius to Fahrenheit. 2. Write a program to convert temperature from Fahrenheit to Celsius"
   ]
  },
  {
   "cell_type": "code",
   "execution_count": 2,
   "metadata": {},
   "outputs": [
    {
     "name": "stdout",
     "output_type": "stream",
     "text": [
      "32.0 celsius in fahrenheit is 89.6\n",
      "113.0 fahrenheit in celsius is 45.0\n"
     ]
    }
   ],
   "source": [
    "def convert_celsius_fahrenheit(inp):\n",
    "    return (inp * 9/5) + 32\n",
    "\n",
    "def convert_fahrenheit_celsius(inp):\n",
    "    return (inp - 32) * 5/9 \n",
    "\n",
    "\n",
    "inp1 = float(input(\"Enter temperature in Celsius\"))\n",
    "\n",
    "print(f\"{inp1} celsius in fahrenheit is\",convert_celsius_fahrenheit(inp1))\n",
    "\n",
    "inp2 = float(input(\"Enter temperature in Fahrenheit\"))\n",
    "\n",
    "print(f\"{inp2} fahrenheit in celsius is\",convert_fahrenheit_celsius(inp2))\n"
   ]
  },
  {
   "cell_type": "code",
   "execution_count": null,
   "metadata": {},
   "outputs": [],
   "source": []
  }
 ],
 "metadata": {
  "kernelspec": {
   "display_name": "Python 3",
   "language": "python",
   "name": "python3"
  },
  "language_info": {
   "codemirror_mode": {
    "name": "ipython",
    "version": 3
   },
   "file_extension": ".py",
   "mimetype": "text/x-python",
   "name": "python",
   "nbconvert_exporter": "python",
   "pygments_lexer": "ipython3",
   "version": "3.12.1"
  }
 },
 "nbformat": 4,
 "nbformat_minor": 2
}
