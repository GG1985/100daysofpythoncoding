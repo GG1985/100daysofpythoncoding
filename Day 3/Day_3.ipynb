{
 "cells": [
  {
   "cell_type": "markdown",
   "metadata": {},
   "source": [
    "Write a program that reads a single input from the user and prints it to the console. For example, if the user enters their name, the program should output: \"\"Hello, {name}\"\""
   ]
  },
  {
   "cell_type": "code",
   "execution_count": 4,
   "metadata": {},
   "outputs": [
    {
     "name": "stdout",
     "output_type": "stream",
     "text": [
      "what's your name?\n",
      "Hello,  Random_guy\n"
     ]
    }
   ],
   "source": [
    "print(\"what's your name?\")\n",
    "name = input()\n",
    "print(\"Hello, \", name)"
   ]
  },
  {
   "cell_type": "markdown",
   "metadata": {},
   "source": [
    "Handling Different Data Types:\n",
    "Extend the program to read and print different types of inputs. Ensure the inputs are properly converted to their respective types and then printed. The program should ask the user to enter:\n",
    "\n",
    "A string\n",
    "An integer\n",
    "A floating-point number"
   ]
  },
  {
   "cell_type": "code",
   "execution_count": 10,
   "metadata": {},
   "outputs": [
    {
     "name": "stdout",
     "output_type": "stream",
     "text": [
      "what's your age?\n",
      "what's your height?\n",
      "Hi Random_guy. Your age is 1. Your height is 190.2.\n"
     ]
    }
   ],
   "source": [
    "print(\"what's your age?\")\n",
    "age = int(input())\n",
    "print(\"what's your height?\")\n",
    "height = float(input())\n",
    "\n",
    "print(\"Hi\", name + \".\", \"Your age is\", str(age) + \".\", \"Your height is\", str(height) + \".\")\n"
   ]
  },
  {
   "cell_type": "code",
   "execution_count": null,
   "metadata": {},
   "outputs": [],
   "source": []
  }
 ],
 "metadata": {
  "kernelspec": {
   "display_name": "Python 3",
   "language": "python",
   "name": "python3"
  },
  "language_info": {
   "codemirror_mode": {
    "name": "ipython",
    "version": 3
   },
   "file_extension": ".py",
   "mimetype": "text/x-python",
   "name": "python",
   "nbconvert_exporter": "python",
   "pygments_lexer": "ipython3",
   "version": "3.12.1"
  }
 },
 "nbformat": 4,
 "nbformat_minor": 2
}
