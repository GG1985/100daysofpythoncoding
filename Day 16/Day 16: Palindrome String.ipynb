{
 "cells": [
  {
   "cell_type": "markdown",
   "metadata": {},
   "source": [
    "Write a function to check if a given string is a palindrome."
   ]
  },
  {
   "cell_type": "code",
   "execution_count": 2,
   "metadata": {},
   "outputs": [
    {
     "name": "stdout",
     "output_type": "stream",
     "text": [
      "12321 is Palindrome\n"
     ]
    }
   ],
   "source": [
    "def palindrome(num):\n",
    "    original = num\n",
    "    reverse = 0\n",
    "    while num >0:\n",
    "        rem = num % 10\n",
    "        reverse = reverse*10 + rem\n",
    "        num //=10\n",
    "    \n",
    "    if original == reverse:\n",
    "        print(f\"{original} is Palindrome\")\n",
    "    else:\n",
    "        print(f\"{original} is not Palindrome\")\n",
    "\n",
    "\n",
    "num = int(input())\n",
    "\n",
    "palindrome(num)\n",
    "\n"
   ]
  },
  {
   "cell_type": "code",
   "execution_count": null,
   "metadata": {},
   "outputs": [],
   "source": []
  }
 ],
 "metadata": {
  "kernelspec": {
   "display_name": "Python 3",
   "language": "python",
   "name": "python3"
  },
  "language_info": {
   "codemirror_mode": {
    "name": "ipython",
    "version": 3
   },
   "file_extension": ".py",
   "mimetype": "text/x-python",
   "name": "python",
   "nbconvert_exporter": "python",
   "pygments_lexer": "ipython3",
   "version": "3.12.1"
  }
 },
 "nbformat": 4,
 "nbformat_minor": 2
}
