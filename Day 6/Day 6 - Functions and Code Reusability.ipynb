{
 "cells": [
  {
   "cell_type": "markdown",
   "metadata": {},
   "source": [
    "Define and call a simple function greet_user which takes name as a parameter. The function should print 'Hello, name' to the console."
   ]
  },
  {
   "cell_type": "code",
   "execution_count": 7,
   "metadata": {},
   "outputs": [
    {
     "name": "stdout",
     "output_type": "stream",
     "text": [
      "Hello, Random_guy\n"
     ]
    }
   ],
   "source": [
    "def greet_user(name):\n",
    "    print(\"Hello, \" +name)\n",
    "\n",
    "name = (input(\"Enter your name\"))\n",
    "greet_user(name)\n"
   ]
  },
  {
   "cell_type": "markdown",
   "metadata": {},
   "source": [
    "Default and Keyword Arguments\n",
    "Update the greet_user function by adding a default value 'Guest' for the name parameter. When the function is called without an argument it should print 'Hello, Guest' to the console."
   ]
  },
  {
   "cell_type": "code",
   "execution_count": 11,
   "metadata": {},
   "outputs": [
    {
     "name": "stdout",
     "output_type": "stream",
     "text": [
      "Hello, Guest\n"
     ]
    }
   ],
   "source": [
    "def greet_user(name):\n",
    "    if name == \"\":\n",
    "        print(\"Hello, Guest\")\n",
    "    else:\n",
    "        print(\"Hello, \" +name)\n",
    "\n",
    "name = (input(\"Enter your name\"))\n",
    "greet_user(name)"
   ]
  },
  {
   "cell_type": "code",
   "execution_count": 13,
   "metadata": {},
   "outputs": [
    {
     "name": "stdout",
     "output_type": "stream",
     "text": [
      "Hello, Guest\n"
     ]
    }
   ],
   "source": [
    "def greet_user(name = \"Guest\"):\n",
    "    print(\"Hello, \" +name)\n",
    "\n",
    "#name = (input(\"Enter your name\"))\n",
    "greet_user()"
   ]
  },
  {
   "cell_type": "markdown",
   "metadata": {},
   "source": [
    "Function with Return Values\n",
    "Write a function that calculates and returns the area of a rectangle. The function should take length and breadth as the arguments."
   ]
  },
  {
   "cell_type": "code",
   "execution_count": 18,
   "metadata": {},
   "outputs": [
    {
     "name": "stdout",
     "output_type": "stream",
     "text": [
      "Area of rectange is 15\n"
     ]
    }
   ],
   "source": [
    "def area_rectange(a,b):\n",
    "    return a*b\n",
    "\n",
    "length = int((input(\"Enter lenght of rectange\")))\n",
    "breadth = int((input(\"Enter breadth of rectange\")))\n",
    "print(\"Area of rectange is\", area_rectange(length,breadth))\n"
   ]
  },
  {
   "cell_type": "markdown",
   "metadata": {},
   "source": [
    "Variable Scope\n",
    "To understand the difference between local and global variables, follow these steps:\n",
    "1. Define a global variable and print its value.\n",
    "2. Write a function and assign a new value to the same varible inside the function and then print it.\n",
    "3. Print the variable again outside the function again to observe that its value didn't change.\n",
    "4. Write another function that access the global variable using the global keyword and then update its value.\n",
    "5. Print the variable again outside the function. Verify that it's value now got updated."
   ]
  },
  {
   "cell_type": "code",
   "execution_count": 20,
   "metadata": {},
   "outputs": [
    {
     "name": "stdout",
     "output_type": "stream",
     "text": [
      "Global varaible is 30\n",
      "Global variable inside function is 40\n",
      "Global variable inside function is 30\n",
      "Global variable inside function is 20\n",
      "Global variable inside function is 20\n"
     ]
    }
   ],
   "source": [
    "global_value = 30\n",
    "print(f\"Global varaible is {global_value}\")\n",
    "\n",
    "def modify_global_value():\n",
    "    global_value = 40\n",
    "    print(f\"Global variable inside function is {global_value}\")\n",
    "\n",
    "modify_global_value()\n",
    "\n",
    "print(f\"Global variable inside function is {global_value}\")\n",
    "\n",
    "def modify_global_value():\n",
    "    global global_value\n",
    "    global_value = 20\n",
    "    print(f\"Global variable inside function is {global_value}\")\n",
    "\n",
    "modify_global_value()\n",
    "\n",
    "print(f\"Global variable inside function is {global_value}\")\n",
    "\n",
    "\n",
    "\n",
    "\n",
    "\n"
   ]
  },
  {
   "cell_type": "code",
   "execution_count": null,
   "metadata": {},
   "outputs": [],
   "source": []
  }
 ],
 "metadata": {
  "kernelspec": {
   "display_name": "Python 3",
   "language": "python",
   "name": "python3"
  },
  "language_info": {
   "codemirror_mode": {
    "name": "ipython",
    "version": 3
   },
   "file_extension": ".py",
   "mimetype": "text/x-python",
   "name": "python",
   "nbconvert_exporter": "python",
   "pygments_lexer": "ipython3",
   "version": "3.12.1"
  }
 },
 "nbformat": 4,
 "nbformat_minor": 2
}
