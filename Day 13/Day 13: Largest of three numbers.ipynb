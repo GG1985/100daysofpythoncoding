{
 "cells": [
  {
   "cell_type": "code",
   "execution_count": 1,
   "metadata": {},
   "outputs": [
    {
     "name": "stdout",
     "output_type": "stream",
     "text": [
      "The largest number among (56, 45, 85) is: 85\n"
     ]
    }
   ],
   "source": [
    "num = []\n",
    "\n",
    "for _ in range(3):\n",
    "    num.append(int(input(\"Enter Integer\")))\n",
    "\n",
    "def larg_num(num):\n",
    "    if num[0] >= num[1] and num[0] >= num[2]:\n",
    "        return num[0]\n",
    "    elif num[2] >= num[0] and num[2] >= num[1]:\n",
    "        return num[2]\n",
    "    else:\n",
    "        return num[1]\n",
    "    \n",
    "print(f\"The largest number among {num[0], num[1], num[2]} is: {larg_num(num)}\")"
   ]
  },
  {
   "cell_type": "code",
   "execution_count": null,
   "metadata": {},
   "outputs": [],
   "source": []
  }
 ],
 "metadata": {
  "kernelspec": {
   "display_name": "Python 3",
   "language": "python",
   "name": "python3"
  },
  "language_info": {
   "codemirror_mode": {
    "name": "ipython",
    "version": 3
   },
   "file_extension": ".py",
   "mimetype": "text/x-python",
   "name": "python",
   "nbconvert_exporter": "python",
   "pygments_lexer": "ipython3",
   "version": "3.12.1"
  }
 },
 "nbformat": 4,
 "nbformat_minor": 2
}
