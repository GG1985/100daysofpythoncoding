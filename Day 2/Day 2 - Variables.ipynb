{
 "cells": [
  {
   "cell_type": "code",
   "execution_count": 1,
   "metadata": {},
   "outputs": [
    {
     "name": "stdout",
     "output_type": "stream",
     "text": [
      "Name: Random_guy\n",
      "Age: 1\n",
      "Height: 190.2\n",
      "Is_student: False\n",
      "Email: None\n",
      "Siblings: ['A', 'B', 'C']\n",
      "Address: {'street': 'on-road', 'city': 'Bengaluru'}\n"
     ]
    }
   ],
   "source": [
    "name = 'Random_guy'\n",
    "age = 1\n",
    "height = 190.2\n",
    "is_student = False\n",
    "email = None\n",
    "siblings = ['A', 'B', 'C']\n",
    "address = {'street':'on-road', 'city': 'Bengaluru'}\n",
    "\n",
    "print('Name:',name)\n",
    "print('Age:',age)\n",
    "print('Height:',height)\n",
    "print('Is_student:',is_student )\n",
    "print('Email:',email)\n",
    "print('Siblings:',siblings)\n",
    "print('Address:',address)"
   ]
  },
  {
   "cell_type": "code",
   "execution_count": null,
   "metadata": {},
   "outputs": [],
   "source": []
  }
 ],
 "metadata": {
  "kernelspec": {
   "display_name": "Python 3",
   "language": "python",
   "name": "python3"
  },
  "language_info": {
   "codemirror_mode": {
    "name": "ipython",
    "version": 3
   },
   "file_extension": ".py",
   "mimetype": "text/x-python",
   "name": "python",
   "nbconvert_exporter": "python",
   "pygments_lexer": "ipython3",
   "version": "3.12.1"
  }
 },
 "nbformat": 4,
 "nbformat_minor": 2
}
