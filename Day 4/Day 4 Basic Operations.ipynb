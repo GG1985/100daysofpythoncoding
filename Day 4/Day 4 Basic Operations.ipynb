{
 "cells": [
  {
   "cell_type": "markdown",
   "metadata": {},
   "source": [
    "Arithmetic Operators\n",
    "Write a program to perform the following arithmetic operations using two numbers:\n",
    "Addition (+)\n",
    "Subtraction (-)\n",
    "Multiplication (*)\n",
    "Division (/)\n",
    "Floor Division (//)\n",
    "Modulus (%)\n",
    "Exponentiation (**)"
   ]
  },
  {
   "cell_type": "code",
   "execution_count": 1,
   "metadata": {},
   "outputs": [
    {
     "name": "stdout",
     "output_type": "stream",
     "text": [
      "Provide 2 numbers (a, b), where a > b and non-zero\n",
      "Below are the arithmetic operations: \n",
      " Addition (+): 6 \n",
      "Subtraction (-): 2 \n",
      "Multiplication (*): 8 \n",
      "Division (/): 2.0 \n",
      "Floor Division (//): 2 \n",
      "Modulus (%): 0 \n",
      "Exponentiation (**): 16\n"
     ]
    }
   ],
   "source": [
    "#input 2 positive numbers where a >= b\n",
    "\n",
    "print(\"Provide 2 numbers (a, b), where a > b and non-zero\")\n",
    "a = int(input(\"a\"))\n",
    "b = int(input(\"b\"))\n",
    "\n",
    "print(\"Below are the arithmetic operations:\\n Addition (+):\", a+b,\n",
    "                                            \"\\nSubtraction (-):\", a-b, \n",
    "                                            \"\\nMultiplication (*):\", a*b, \n",
    "                                            \"\\nDivision (/):\", a/b,\n",
    "                                            \"\\nFloor Division (//):\", a//b,\n",
    "                                            \"\\nModulus (%):\", a%b,\n",
    "                                            \"\\nExponentiation (**):\", a**b)\n",
    "\n",
    "\n"
   ]
  },
  {
   "cell_type": "markdown",
   "metadata": {},
   "source": [
    "Relational Operators\n",
    "Write a program to compare two numbers using the following operators:\n",
    "Equal to (==)\n",
    "Not equal to (!=)\n",
    "Greater than (>)\n",
    "Less than (<)\n",
    "Greater than or equal to (>=)\n",
    "Less than or equal to (<=)"
   ]
  },
  {
   "cell_type": "code",
   "execution_count": 2,
   "metadata": {},
   "outputs": [
    {
     "name": "stdout",
     "output_type": "stream",
     "text": [
      "Below are the Relational Operations:\n",
      " Equal to (==): False \n",
      "Not equal to (!=): True \n",
      "Greater than (>): True \n",
      "Less than (<): False \n",
      "Greater than or equal to (>=): True \n",
      "Less than or equal to (<=): False\n"
     ]
    }
   ],
   "source": [
    "print(\"Below are the Relational Operations:\\n Equal to (==):\", a==b,\n",
    "                                            \"\\nNot equal to (!=):\", a!=b, \n",
    "                                            \"\\nGreater than (>):\", a>b, \n",
    "                                            \"\\nLess than (<):\", a<b,\n",
    "                                            \"\\nGreater than or equal to (>=):\", a>=b,\n",
    "                                            \"\\nLess than or equal to (<=):\", a<=b)\n",
    "                                            "
   ]
  },
  {
   "cell_type": "markdown",
   "metadata": {},
   "source": [
    "Logical Operators\n",
    "Write a program that evaluates the following between 2 booleans(True or False):\n",
    "Logical AND (and)\n",
    "Logical OR (or)\n",
    "Logical NOT (not)"
   ]
  },
  {
   "cell_type": "code",
   "execution_count": 10,
   "metadata": {},
   "outputs": [
    {
     "name": "stdout",
     "output_type": "stream",
     "text": [
      "Logical operator 'and' used as a > b and a%b ==0\n",
      "Logical operator 'or' used as a != b or a/b ==0\n",
      "Logical operator 'not' used as not a//b == 0\n"
     ]
    }
   ],
   "source": [
    "if a > b and a%b ==0:\n",
    "    print(\"Logical operator 'and' used as a > b and a%b ==0\")\n",
    "if a != b or a/b ==0:\n",
    "    print(\"Logical operator 'or' used as a != b or a/b ==0\")\n",
    "if not a/b == 0:\n",
    "    print(\"Logical operator 'not' used as not a//b == 0\")"
   ]
  },
  {
   "cell_type": "code",
   "execution_count": null,
   "metadata": {},
   "outputs": [],
   "source": []
  }
 ],
 "metadata": {
  "kernelspec": {
   "display_name": "Python 3",
   "language": "python",
   "name": "python3"
  },
  "language_info": {
   "codemirror_mode": {
    "name": "ipython",
    "version": 3
   },
   "file_extension": ".py",
   "mimetype": "text/x-python",
   "name": "python",
   "nbconvert_exporter": "python",
   "pygments_lexer": "ipython3",
   "version": "3.12.1"
  }
 },
 "nbformat": 4,
 "nbformat_minor": 2
}
