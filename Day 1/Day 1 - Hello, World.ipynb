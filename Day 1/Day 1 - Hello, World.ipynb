{
 "cells": [
  {
   "cell_type": "markdown",
   "metadata": {},
   "source": [
    "Day 1 - Hello, World!\n",
    "1. Write a program that prints \"Hello, World!\" to the console\n",
    "2. Add single-line and multi-line comments to your code"
   ]
  },
  {
   "cell_type": "code",
   "execution_count": 1,
   "metadata": {},
   "outputs": [
    {
     "name": "stdout",
     "output_type": "stream",
     "text": [
      "Hello, World!\n"
     ]
    },
    {
     "data": {
      "text/plain": [
       "'\\n\\nThis is how multi-line comment works.\\n\\nWe need to use the 3 single inverted commas\\n\\n'"
      ]
     },
     "execution_count": 1,
     "metadata": {},
     "output_type": "execute_result"
    }
   ],
   "source": [
    "# 1. Write a program that prints \"Hello, World!\" to the console\n",
    "\n",
    "print(\"Hello, World!\")\n",
    "\n",
    "# 2. Add single-line and multi-line comments to your code\n",
    "\n",
    "#task completed for today\n",
    "\n",
    "'''\n",
    "\n",
    "This is how multi-line comment works.\n",
    "\n",
    "We need to use the 3 single inverted commas\n",
    "\n",
    "'''\n"
   ]
  },
  {
   "cell_type": "code",
   "execution_count": null,
   "metadata": {},
   "outputs": [],
   "source": []
  }
 ],
 "metadata": {
  "kernelspec": {
   "display_name": "Python 3",
   "language": "python",
   "name": "python3"
  },
  "language_info": {
   "codemirror_mode": {
    "name": "ipython",
    "version": 3
   },
   "file_extension": ".py",
   "mimetype": "text/x-python",
   "name": "python",
   "nbconvert_exporter": "python",
   "pygments_lexer": "ipython3",
   "version": "3.12.1"
  }
 },
 "nbformat": 4,
 "nbformat_minor": 2
}
