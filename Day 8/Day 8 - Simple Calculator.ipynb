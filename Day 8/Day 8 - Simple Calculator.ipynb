{
 "cells": [
  {
   "cell_type": "markdown",
   "metadata": {},
   "source": [
    "Create a simple calculator program that can add, subtract, multiply, and divide two integers"
   ]
  },
  {
   "cell_type": "code",
   "execution_count": 2,
   "metadata": {},
   "outputs": [
    {
     "name": "stdout",
     "output_type": "stream",
     "text": [
      "The result of / operations for 8 and 4 is 2.0\n"
     ]
    }
   ],
   "source": [
    "def calc(n1, n2, op):\n",
    "    if op == \"+\":\n",
    "        return n1+n2\n",
    "    elif op == \"-\":\n",
    "        return n1-n2\n",
    "    elif op == \"*\":\n",
    "        return n1*n2\n",
    "    else:\n",
    "        return n1/n2\n",
    "    \n",
    "n1 = int(input(\"Enter an first integer\"))\n",
    "n2 = int(input(\"Enter an second integer\"))\n",
    "op = input(\"Enter operations to be conducted: +, -, *,/\")\n",
    "\n",
    "print(f\"The result of {op} operations for {n1} and {n2} is {calc(n1, n2, op)}\")\n",
    "\n",
    "\n"
   ]
  },
  {
   "cell_type": "code",
   "execution_count": null,
   "metadata": {},
   "outputs": [],
   "source": []
  }
 ],
 "metadata": {
  "kernelspec": {
   "display_name": "Python 3",
   "language": "python",
   "name": "python3"
  },
  "language_info": {
   "codemirror_mode": {
    "name": "ipython",
    "version": 3
   },
   "file_extension": ".py",
   "mimetype": "text/x-python",
   "name": "python",
   "nbconvert_exporter": "python",
   "pygments_lexer": "ipython3",
   "version": "3.12.1"
  }
 },
 "nbformat": 4,
 "nbformat_minor": 2
}
