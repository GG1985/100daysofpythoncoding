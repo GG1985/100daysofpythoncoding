{
 "cells": [
  {
   "cell_type": "markdown",
   "metadata": {},
   "source": [
    "If-else Statements\n",
    "Write a program that takes an integer as input and checks if it's even or odd.\n"
   ]
  },
  {
   "cell_type": "code",
   "execution_count": 3,
   "metadata": {},
   "outputs": [
    {
     "name": "stdout",
     "output_type": "stream",
     "text": [
      "Please input a integer to check if it's even or odd:\n",
      "3 is a odd number.\n"
     ]
    }
   ],
   "source": [
    "print(\"Please input a integer to check if it's even or odd:\")\n",
    "num = int(input(\"Integer\"))\n",
    "\n",
    "if num%2==0:\n",
    "    print(str(num)+\" is a even number.\")\n",
    "else:\n",
    "    print(str(num)+\" is a odd number.\")"
   ]
  },
  {
   "cell_type": "markdown",
   "metadata": {},
   "source": [
    "Write a program that takes an age as input and determines if the person is a child, teenager, adult, or senior citizen."
   ]
  },
  {
   "cell_type": "code",
   "execution_count": 4,
   "metadata": {},
   "outputs": [
    {
     "name": "stdout",
     "output_type": "stream",
     "text": [
      "Please input a integer to determine if the person is a child, teenager, adult, or senior citizen:\n",
      "60 is a senior citizen.\n"
     ]
    }
   ],
   "source": [
    "print(\"Please input a integer to determine if the person is a child, teenager, adult, or senior citizen:\")\n",
    "num = int(input(\"Integer\"))\n",
    "\n",
    "if num <=12:\n",
    "    print(str(num)+\" is a child.\")\n",
    "elif num >12 and num < 18:\n",
    "    print(str(num)+\" is a teenager.\")\n",
    "elif num >=18 and num < 60:\n",
    "    print(str(num)+\" is a adult.\")\n",
    "else:\n",
    "    print(str(num)+\" is a senior citizen.\")"
   ]
  },
  {
   "cell_type": "markdown",
   "metadata": {},
   "source": [
    "Nested If-else Statements\n",
    "Using nested if-else, write a program that takes three numbers as input and determines the largest among them."
   ]
  },
  {
   "cell_type": "code",
   "execution_count": 8,
   "metadata": {},
   "outputs": [
    {
     "name": "stdout",
     "output_type": "stream",
     "text": [
      "Please input 3 integer to determine the largest among them:\n",
      "60 is the largest among three.\n"
     ]
    }
   ],
   "source": [
    "print(\"Please input 3 integer to determine the largest among them:\")\n",
    "num1 = int(input(\"Number 1\"))\n",
    "num2 = int(input(\"Number 2\"))\n",
    "num3 = int(input(\"Number 3\"))\n",
    "\n",
    "if num1 > num2:\n",
    "    if num1 > num3:\n",
    "        print(str(num1) +\" is the largest among three.\")\n",
    "    else:\n",
    "         print(str(num3) +\" is the largest among three.\")\n",
    "else:\n",
    "    if num2 > num3:\n",
    "        print(str(num2) +\" is the largest among three.\")\n",
    "    else:\n",
    "        print(str(num3) +\" is the largest among three.\")"
   ]
  },
  {
   "cell_type": "markdown",
   "metadata": {},
   "source": [
    "For Loop\n",
    "Write a program to calculate the sum of all numbers up to the given input number."
   ]
  },
  {
   "cell_type": "code",
   "execution_count": 11,
   "metadata": {},
   "outputs": [
    {
     "name": "stdout",
     "output_type": "stream",
     "text": [
      "/n Enter a positive number to the sum of all numbers up to it: \n",
      "The sum of all numbers up to the given input 10 is 55\n"
     ]
    }
   ],
   "source": [
    "num = int(input(print(\"/n Enter a positive number to the sum of all numbers up to it: \")))\n",
    "\n",
    "sum = 0\n",
    "\n",
    "for i in range(1,num+1):\n",
    "    sum += i\n",
    "\n",
    "print(f\"The sum of all numbers up to the given input {num} is {sum}\")"
   ]
  },
  {
   "cell_type": "markdown",
   "metadata": {},
   "source": [
    "While Loop\n",
    "Write a program to calculate the factorial of a given number."
   ]
  },
  {
   "cell_type": "code",
   "execution_count": 13,
   "metadata": {},
   "outputs": [
    {
     "name": "stdout",
     "output_type": "stream",
     "text": [
      "/n Enter a positive number to calculate the factorial: \n",
      "The factorial of a given 0 is 1\n"
     ]
    }
   ],
   "source": [
    "num = int(input(print(\"/n Enter a positive number to calculate the factorial: \")))\n",
    "\n",
    "factorial = 1\n",
    "while num>1:\n",
    "    factorial*=num\n",
    "    num-=1\n",
    "print(f\"The factorial of a given {num} is {factorial}\")\n",
    "\n"
   ]
  },
  {
   "cell_type": "code",
   "execution_count": null,
   "metadata": {},
   "outputs": [],
   "source": []
  }
 ],
 "metadata": {
  "kernelspec": {
   "display_name": "Python 3",
   "language": "python",
   "name": "python3"
  },
  "language_info": {
   "codemirror_mode": {
    "name": "ipython",
    "version": 3
   },
   "file_extension": ".py",
   "mimetype": "text/x-python",
   "name": "python",
   "nbconvert_exporter": "python",
   "pygments_lexer": "ipython3",
   "version": "3.12.1"
  }
 },
 "nbformat": 4,
 "nbformat_minor": 2
}
